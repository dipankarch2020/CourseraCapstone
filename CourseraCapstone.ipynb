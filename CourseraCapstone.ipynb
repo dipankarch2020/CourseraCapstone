{
 "cells": [
  {
   "cell_type": "markdown",
   "metadata": {},
   "source": [
    "# Recomendation for the best place to start a restaurant near Toronto"
   ]
  },
  {
   "cell_type": "markdown",
   "metadata": {},
   "source": [
    "## Problem statement"
   ]
  },
  {
   "cell_type": "markdown",
   "metadata": {},
   "source": [
    "Toronto is a big city and has many diffrent types of restautants. To start a new restaurant and run it successfully with profit is a big challenge. The objective is to recommend the best place near Toronto where a restaurant can be profitable with less competition."
   ]
  },
  {
   "cell_type": "markdown",
   "metadata": {},
   "source": [
    "## Data section"
   ]
  },
  {
   "cell_type": "markdown",
   "metadata": {},
   "source": [
    "The data required for working on this problem is taken from 2 sources :\n",
    "                1. Wiki page where the neighbourhood places near Toronto are listed with postal codes.\n",
    "                2. The Foursquare data \n",
    "                \n",
    "                \n",
    "                \n",
    "The data will be extracted from the wiki page and will be converted to a data frame for better usability. The Foursquare data will be taken to identify different aspects of the Toronto neighbourhood area, and to extract the parameters which helps to recommend the best place for starting a restaurant."
   ]
  },
  {
   "cell_type": "code",
   "execution_count": null,
   "metadata": {},
   "outputs": [],
   "source": []
  }
 ],
 "metadata": {
  "kernelspec": {
   "display_name": "Python 3",
   "language": "python",
   "name": "python3"
  },
  "language_info": {
   "codemirror_mode": {
    "name": "ipython",
    "version": 3
   },
   "file_extension": ".py",
   "mimetype": "text/x-python",
   "name": "python",
   "nbconvert_exporter": "python",
   "pygments_lexer": "ipython3",
   "version": "3.8.2"
  }
 },
 "nbformat": 4,
 "nbformat_minor": 4
}
